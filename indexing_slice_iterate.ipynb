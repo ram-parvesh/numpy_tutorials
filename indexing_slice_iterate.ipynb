{
 "cells": [
  {
   "cell_type": "code",
   "execution_count": 1,
   "id": "498b1819",
   "metadata": {},
   "outputs": [],
   "source": [
    "import pandas as pd\n",
    "import numpy as np\n",
    "import os\n",
    "import glob\n",
    "import matplotlib.pyplot as plt"
   ]
  },
  {
   "cell_type": "code",
   "execution_count": 25,
   "id": "d3ab1ba9",
   "metadata": {},
   "outputs": [],
   "source": [
    "A = np.array([1,2,3,4,5])\n",
    "out = A[::] # lower, upper, step all take the default values\n",
    "out = A[::2] # step is 2, lower and upper defaults to the beginning and end of the \n",
    "out = A[:3] # first three elements\n",
    "out = A[3:] # elements from index 3\n",
    "out = A[-1] # the last element in the array\n",
    "out = A[-3:] # the last three elements"
   ]
  },
  {
   "cell_type": "code",
   "execution_count": 27,
   "id": "6fd36f68",
   "metadata": {},
   "outputs": [],
   "source": [
    "A = np.array([[n+m*10 for n in range(5)] for m in range(5)])\n",
    "# a block from the original array\n",
    "out = A[1:4, 1:4]\n",
    "# strides\n",
    "out = A[::2, ::2]\n"
   ]
  },
  {
   "cell_type": "code",
   "execution_count": 2,
   "id": "1f014d06",
   "metadata": {},
   "outputs": [
    {
     "name": "stdout",
     "output_type": "stream",
     "text": [
      "[[  1   4   9  16  25]\n",
      " [ 36  49  64  81 100]]\n",
      "\n",
      "A[0]\t\t [ 1  4  9 16 25]\n",
      "A[-1]\t\t [ 36  49  64  81 100]\n",
      "A[0][0]\t\t 1\n",
      "A[-1][-1]\t 100\n"
     ]
    }
   ],
   "source": [
    "# indexing elements from multidimensional arrays\n",
    "A = np.array([x**2 for x in range(1, 11)]).reshape(2, 5)\n",
    "\n",
    "print(A, end='\\n\\n')\n",
    "print('A[0]\\t\\t', A[0])\n",
    "print('A[-1]\\t\\t', A[-1])\n",
    "print('A[0][0]\\t\\t', A[0][0])\n",
    "print('A[-1][-1]\\t', A[-1][-1])\n",
    "#print('', A[])"
   ]
  },
  {
   "cell_type": "code",
   "execution_count": 3,
   "id": "819df28d",
   "metadata": {},
   "outputs": [
    {
     "name": "stdout",
     "output_type": "stream",
     "text": [
      "[[   1    8   27]\n",
      " [  64  125  216]\n",
      " [ 343  512  729]\n",
      " [1000 1331 1728]]\n",
      "\n",
      "First Column:\t [   1   64  343 1000]\n",
      "Last Column:\t [  27  216  729 1728]\n",
      "First Row:\t [ 1  8 27]\n",
      "Last Row:\t [1000 1331 1728]\n"
     ]
    }
   ],
   "source": [
    "# slicing NumPy arrays\n",
    "cubes = np.arange(1, 13).reshape(4, 3)**3 # cubes of 1-12\n",
    "\n",
    "print(cubes[:,:], end='\\n\\n')         # all rows, all cols\n",
    "print('First Column:\\t', cubes[:, 0]) # first col\n",
    "print('Last Column:\\t', cubes[:, -1]) # last col\n",
    "print('First Row:\\t', cubes[0, :])    # first row\n",
    "print('Last Row:\\t', cubes[-1, :])    # last row"
   ]
  },
  {
   "cell_type": "code",
   "execution_count": 4,
   "id": "61a7862a",
   "metadata": {},
   "outputs": [
    {
     "data": {
      "text/plain": [
       "array([ 1,  2,  3,  4,  5,  6,  7,  8,  9, 10])"
      ]
     },
     "execution_count": 4,
     "metadata": {},
     "output_type": "execute_result"
    }
   ],
   "source": [
    "# iterating through array elements\n",
    "A = np.array([x+1 for x in range(10)])\n",
    "A"
   ]
  },
  {
   "cell_type": "code",
   "execution_count": 5,
   "id": "fd372a7c",
   "metadata": {},
   "outputs": [
    {
     "name": "stdout",
     "output_type": "stream",
     "text": [
      "1,2,3,4,5,6,7,8,9,10,"
     ]
    }
   ],
   "source": [
    "for a in A:\n",
    "    print(a, end=',')"
   ]
  },
  {
   "cell_type": "code",
   "execution_count": 6,
   "id": "2c950e8d",
   "metadata": {},
   "outputs": [
    {
     "name": "stdout",
     "output_type": "stream",
     "text": [
      "1,4,9,16,25,"
     ]
    }
   ],
   "source": [
    "A = A.reshape(2, 5)\n",
    "\n",
    "for a in A[0,:]: # for element in row 1\n",
    "    print(a**2, end=',')"
   ]
  },
  {
   "cell_type": "code",
   "execution_count": 7,
   "id": "3f17e529",
   "metadata": {},
   "outputs": [
    {
     "name": "stdout",
     "output_type": "stream",
     "text": [
      "A[0, ...] == A[0, :, :]\n",
      "\n",
      "[[ 1  2  3  4  5]\n",
      " [ 6  7  8  9 10]\n",
      " [11 12 13 14 15]\n",
      " [16 17 18 19 20]\n",
      " [21 22 23 24 25]] \n",
      "\n",
      " [[ 1  2  3  4  5]\n",
      " [ 6  7  8  9 10]\n",
      " [11 12 13 14 15]\n",
      " [16 17 18 19 20]\n",
      " [21 22 23 24 25]]\n"
     ]
    }
   ],
   "source": [
    "# Advanced: using ... for axis completion\n",
    "A = np.arange(125).reshape(5, 5, 5) + 1\n",
    "\n",
    "print('A[0, ...] == A[0, :, :]', end='\\n\\n')\n",
    "print(A[0, ...], '\\n\\n', A[0, :, :])"
   ]
  },
  {
   "cell_type": "code",
   "execution_count": 8,
   "id": "8a4a004d",
   "metadata": {},
   "outputs": [
    {
     "name": "stdout",
     "output_type": "stream",
     "text": [
      "1,2,3,4,5,6,7,8,9,10,11,12,13,14,15,16,17,18,19,20,21,22,23,24,25,26,27,28,29,30,31,32,33,34,35,36,37,38,39,40,41,42,43,44,45,46,47,48,49,50,51,52,53,54,55,56,57,58,59,60,61,62,63,64,65,66,67,68,69,70,71,72,73,74,75,76,77,78,79,80,81,82,83,84,85,86,87,88,89,90,91,92,93,94,95,96,97,98,99,100,101,102,103,104,105,106,107,108,109,110,111,112,113,114,115,116,117,118,119,120,121,122,123,124,125,"
     ]
    }
   ],
   "source": [
    "# flattening a 5x5x5 array for iteration\n",
    "for a in A.flat:\n",
    "    print(a, end=',')"
   ]
  },
  {
   "cell_type": "markdown",
   "id": "4d54dbf7",
   "metadata": {},
   "source": [
    "#### Changing the shape of an array"
   ]
  },
  {
   "cell_type": "code",
   "execution_count": 9,
   "id": "545bc8fb",
   "metadata": {},
   "outputs": [
    {
     "name": "stdout",
     "output_type": "stream",
     "text": [
      "[[7. 1. 6. 0.]\n",
      " [2. 9. 9. 9.]\n",
      " [6. 8. 7. 7.]]\n",
      "(3, 4)\n"
     ]
    }
   ],
   "source": [
    "a = np.floor(10*np.random.random((3, 4)))\n",
    "print(a)\n",
    "print(a.shape)"
   ]
  },
  {
   "cell_type": "code",
   "execution_count": 10,
   "id": "df97683c",
   "metadata": {},
   "outputs": [
    {
     "data": {
      "text/plain": [
       "array([[7., 1.],\n",
       "       [6., 0.],\n",
       "       [2., 9.],\n",
       "       [9., 9.],\n",
       "       [6., 8.],\n",
       "       [7., 7.]])"
      ]
     },
     "execution_count": 10,
     "metadata": {},
     "output_type": "execute_result"
    }
   ],
   "source": [
    "a.reshape(6, 2) # returns a COPY of the array reshaped\n"
   ]
  },
  {
   "cell_type": "code",
   "execution_count": 11,
   "id": "a8531b1f",
   "metadata": {},
   "outputs": [
    {
     "data": {
      "text/plain": [
       "array([[7., 2., 6.],\n",
       "       [1., 9., 8.],\n",
       "       [6., 9., 7.],\n",
       "       [0., 9., 7.]])"
      ]
     },
     "execution_count": 11,
     "metadata": {},
     "output_type": "execute_result"
    }
   ],
   "source": [
    "a.T # returns a COPY of the array, transposed"
   ]
  },
  {
   "cell_type": "code",
   "execution_count": 12,
   "id": "c3bdca20",
   "metadata": {},
   "outputs": [
    {
     "name": "stdout",
     "output_type": "stream",
     "text": [
      "A:\t (3, 4)\n",
      "A^T:\t (4, 3)\n"
     ]
    }
   ],
   "source": [
    "print('A:\\t', a.shape)\n",
    "print('A^T:\\t', a.T.shape)"
   ]
  },
  {
   "cell_type": "code",
   "execution_count": 13,
   "id": "97ed9f8d",
   "metadata": {},
   "outputs": [
    {
     "name": "stdout",
     "output_type": "stream",
     "text": [
      "[[0. 3. 7. 4.]\n",
      " [9. 3. 8. 5.]\n",
      " [0. 2. 4. 7.]] array A remains unchanged\n",
      "[[0. 3. 7.]\n",
      " [4. 9. 3.]\n",
      " [8. 5. 0.]\n",
      " [2. 4. 7.]] array A is of a new shape\n"
     ]
    }
   ],
   "source": [
    "A = np.floor(10*np.random.random((3, 4)))\n",
    "\n",
    "A.reshape(4, 3) # reshape returns a COPY of A\n",
    "print(A, 'array A remains unchanged')\n",
    "\n",
    "A.resize(4, 3) # resize modifies array A\n",
    "print(A, 'array A is of a new shape')"
   ]
  },
  {
   "cell_type": "code",
   "execution_count": 15,
   "id": "fa24210b",
   "metadata": {},
   "outputs": [
    {
     "name": "stdout",
     "output_type": "stream",
     "text": [
      "a:\n",
      " [[0 0 0]\n",
      " [0 0 0]\n",
      " [0 0 0]]\n",
      "b:\n",
      " [[1 1 1]\n",
      " [1 1 1]\n",
      " [1 1 1]]\n",
      "Horizontal Stack:\n",
      " [[0 0 0 1 1 1]\n",
      " [0 0 0 1 1 1]\n",
      " [0 0 0 1 1 1]]\n",
      "Vertical Stack:\n",
      " [[0 0 0]\n",
      " [0 0 0]\n",
      " [0 0 0]\n",
      " [1 1 1]\n",
      " [1 1 1]\n",
      " [1 1 1]]\n"
     ]
    }
   ],
   "source": [
    "a = np.zeros(9, dtype=int).reshape(3, 3)\n",
    "b = np.ones(9, dtype=int).reshape(3, 3)\n",
    "\n",
    "# stack horizontally:\n",
    "hor = np.hstack((a, b))\n",
    "ver = np.vstack((a, b))\n",
    "\n",
    "print('a:\\n', a)\n",
    "print('b:\\n', b)\n",
    "print('Horizontal Stack:\\n', hor)\n",
    "print('Vertical Stack:\\n', ver)"
   ]
  },
  {
   "cell_type": "code",
   "execution_count": 16,
   "id": "79a1fda6",
   "metadata": {},
   "outputs": [
    {
     "name": "stdout",
     "output_type": "stream",
     "text": [
      "Horizontal Stack:\n",
      " [[0 0 0 1 1 1]\n",
      " [0 0 0 1 1 1]\n",
      " [0 0 0 1 1 1]]\n",
      "Vertical Stack:\n",
      " [[0 0 0]\n",
      " [0 0 0]\n",
      " [0 0 0]\n",
      " [1 1 1]\n",
      " [1 1 1]\n",
      " [1 1 1]]\n",
      "Column Stack:\n",
      " [[0 0 0 1 1 1]\n",
      " [0 0 0 1 1 1]\n",
      " [0 0 0 1 1 1]]\n",
      "Row Stack:\n",
      " [[0 0 0]\n",
      " [0 0 0]\n",
      " [0 0 0]\n",
      " [1 1 1]\n",
      " [1 1 1]\n",
      " [1 1 1]]\n"
     ]
    }
   ],
   "source": [
    "# similarly, row_stack and column_stack can be used to stack into 2D arrays\n",
    "r_stack = np.row_stack((a, b))\n",
    "c_stack = np.column_stack((a, b))\n",
    "\n",
    "print('Horizontal Stack:\\n', hor)\n",
    "print('Vertical Stack:\\n', ver)\n",
    "print('Column Stack:\\n', c_stack)\n",
    "print('Row Stack:\\n', r_stack)"
   ]
  },
  {
   "cell_type": "code",
   "execution_count": 17,
   "id": "dd6104e7",
   "metadata": {},
   "outputs": [
    {
     "name": "stdout",
     "output_type": "stream",
     "text": [
      "Column Stack:\n",
      " [[[0 0 0]\n",
      "  [0 0 0]\n",
      "  [0 0 0]\n",
      "  [1 1 1]\n",
      "  [1 1 1]\n",
      "  [1 1 1]]]\n",
      "Row Stack:\n",
      " [[[0 0 0]\n",
      "  [0 0 0]\n",
      "  [0 0 0]]\n",
      "\n",
      " [[1 1 1]\n",
      "  [1 1 1]\n",
      "  [1 1 1]]]\n"
     ]
    }
   ],
   "source": [
    "from numpy import newaxis\n",
    "\n",
    "r_stack = np.row_stack((a[newaxis], b[newaxis]))\n",
    "c_stack = np.column_stack((a[newaxis], b[newaxis]))\n",
    "\n",
    "print('Column Stack:\\n', c_stack)\n",
    "print('Row Stack:\\n', r_stack)"
   ]
  },
  {
   "cell_type": "code",
   "execution_count": 18,
   "id": "5693ea00",
   "metadata": {},
   "outputs": [
    {
     "data": {
      "text/plain": [
       "array([ 1,  2,  3,  4,  5,  6,  7,  8,  9, 10])"
      ]
     },
     "execution_count": 18,
     "metadata": {},
     "output_type": "execute_result"
    }
   ],
   "source": [
    "# use range literals to concatenate arrays on the fly\n",
    "np.r_[1:5, 5, 6:10, 10]"
   ]
  },
  {
   "cell_type": "code",
   "execution_count": 19,
   "id": "acd68836",
   "metadata": {},
   "outputs": [
    {
     "data": {
      "text/plain": [
       "array([[1],\n",
       "       [2],\n",
       "       [3],\n",
       "       [4]])"
      ]
     },
     "execution_count": 19,
     "metadata": {},
     "output_type": "execute_result"
    }
   ],
   "source": [
    "np.c_[1:5]"
   ]
  },
  {
   "cell_type": "markdown",
   "id": "ba61985a",
   "metadata": {},
   "source": [
    "#### splitting large array into smaller ones"
   ]
  },
  {
   "cell_type": "code",
   "execution_count": 20,
   "id": "966e34ad",
   "metadata": {},
   "outputs": [
    {
     "name": "stdout",
     "output_type": "stream",
     "text": [
      "[[1. 1. 1.]\n",
      " [1. 1. 1.]\n",
      " [1. 1. 1.]]\n",
      "\n",
      "[[1.]\n",
      " [1.]\n",
      " [1.]]\n",
      "\n",
      "[[1.]\n",
      " [1.]\n",
      " [1.]]\n",
      "\n",
      "[[1.]\n",
      " [1.]\n",
      " [1.]]\n",
      "\n"
     ]
    }
   ],
   "source": [
    "# use hsplit or vsplit to split arrays\n",
    "a = np.ones(9).reshape(3, 3)\n",
    "\n",
    "a_1, a_2, a_3 = np.hsplit(a, 3) # split a into 3 arrays\n",
    "\n",
    "print(a, end='\\n\\n')\n",
    "print(a_1, end='\\n\\n')\n",
    "print(a_2, end='\\n\\n')\n",
    "print(a_3, end='\\n\\n')"
   ]
  },
  {
   "cell_type": "markdown",
   "id": "499ca8f4",
   "metadata": {},
   "source": [
    "##### view and copy"
   ]
  },
  {
   "cell_type": "code",
   "execution_count": 21,
   "id": "8dd95945",
   "metadata": {},
   "outputs": [
    {
     "data": {
      "text/plain": [
       "True"
      ]
     },
     "execution_count": 21,
     "metadata": {},
     "output_type": "execute_result"
    }
   ],
   "source": [
    "a = np.arange(15).reshape(5, 3)\n",
    "b = a\n",
    "a is b"
   ]
  },
  {
   "cell_type": "code",
   "execution_count": null,
   "id": "a30cb3b6",
   "metadata": {},
   "outputs": [],
   "source": []
  }
 ],
 "metadata": {
  "kernelspec": {
   "display_name": "Python 3 (ipykernel)",
   "language": "python",
   "name": "python3"
  },
  "language_info": {
   "codemirror_mode": {
    "name": "ipython",
    "version": 3
   },
   "file_extension": ".py",
   "mimetype": "text/x-python",
   "name": "python",
   "nbconvert_exporter": "python",
   "pygments_lexer": "ipython3",
   "version": "3.7.13"
  }
 },
 "nbformat": 4,
 "nbformat_minor": 5
}
